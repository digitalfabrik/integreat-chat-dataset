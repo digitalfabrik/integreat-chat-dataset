{
 "cells": [
  {
   "cell_type": "code",
   "outputs": [
    {
     "data": {
      "text/plain": "       answerLines   poor  noAnswer  skipped comment  \\\n0              [2]  False     False    False           \n1               []  False      True    False           \n2  [3, 4, 5, 6, 7]  False     False    False           \n3              [1]  False     False    False           \n4         [18, 20]  False     False    False           \n\n                                   user                   created  archived  \n0  81adb4c5-22c1-4ae1-8497-f746e8041cd0  2024-02-20T12:40:45.868Z     False  \n1  2ef98f87-20d3-41d9-8c2d-19ec20a69dd2  2024-02-13T20:59:49.873Z     False  \n2  ffb094e8-796a-4cc9-8b65-e6bb8dd5ebc5  2024-02-17T20:07:39.347Z     False  \n3  edf15548-b98f-48d0-b315-cc17bf18a0e5  2024-02-18T11:51:55.770Z     False  \n4  f3fef4a9-eaf8-46cb-b630-117c2428b06e  2024-02-21T09:11:47.999Z     False  ",
      "text/html": "<div>\n<style scoped>\n    .dataframe tbody tr th:only-of-type {\n        vertical-align: middle;\n    }\n\n    .dataframe tbody tr th {\n        vertical-align: top;\n    }\n\n    .dataframe thead th {\n        text-align: right;\n    }\n</style>\n<table border=\"1\" class=\"dataframe\">\n  <thead>\n    <tr style=\"text-align: right;\">\n      <th></th>\n      <th>answerLines</th>\n      <th>poor</th>\n      <th>noAnswer</th>\n      <th>skipped</th>\n      <th>comment</th>\n      <th>user</th>\n      <th>created</th>\n      <th>archived</th>\n    </tr>\n  </thead>\n  <tbody>\n    <tr>\n      <th>0</th>\n      <td>[2]</td>\n      <td>False</td>\n      <td>False</td>\n      <td>False</td>\n      <td></td>\n      <td>81adb4c5-22c1-4ae1-8497-f746e8041cd0</td>\n      <td>2024-02-20T12:40:45.868Z</td>\n      <td>False</td>\n    </tr>\n    <tr>\n      <th>1</th>\n      <td>[]</td>\n      <td>False</td>\n      <td>True</td>\n      <td>False</td>\n      <td></td>\n      <td>2ef98f87-20d3-41d9-8c2d-19ec20a69dd2</td>\n      <td>2024-02-13T20:59:49.873Z</td>\n      <td>False</td>\n    </tr>\n    <tr>\n      <th>2</th>\n      <td>[3, 4, 5, 6, 7]</td>\n      <td>False</td>\n      <td>False</td>\n      <td>False</td>\n      <td></td>\n      <td>ffb094e8-796a-4cc9-8b65-e6bb8dd5ebc5</td>\n      <td>2024-02-17T20:07:39.347Z</td>\n      <td>False</td>\n    </tr>\n    <tr>\n      <th>3</th>\n      <td>[1]</td>\n      <td>False</td>\n      <td>False</td>\n      <td>False</td>\n      <td></td>\n      <td>edf15548-b98f-48d0-b315-cc17bf18a0e5</td>\n      <td>2024-02-18T11:51:55.770Z</td>\n      <td>False</td>\n    </tr>\n    <tr>\n      <th>4</th>\n      <td>[18, 20]</td>\n      <td>False</td>\n      <td>False</td>\n      <td>False</td>\n      <td></td>\n      <td>f3fef4a9-eaf8-46cb-b630-117c2428b06e</td>\n      <td>2024-02-21T09:11:47.999Z</td>\n      <td>False</td>\n    </tr>\n  </tbody>\n</table>\n</div>"
     },
     "execution_count": 64,
     "metadata": {},
     "output_type": "execute_result"
    }
   ],
   "source": [
    "%matplotlib inline\n",
    "import pandas as pd\n",
    "import matplotlib.pyplot as plt\n",
    "import seaborn as sns\n",
    "import json\n",
    "\n",
    "sns.set(style=\"darkgrid\")\n",
    "\n",
    "PATH = '/home/st/Documents/Uni/Masterarbeit/Data/2024-02-21_rows.json'\n",
    "\n",
    "rows = json.load(open(PATH, 'r'))\n",
    "question_rows = []\n",
    "all_annotations = []\n",
    "\n",
    "for row in rows:\n",
    "    for question in row['questions']:\n",
    "        new_row = row.copy()\n",
    "        annotations = [annotation for annotation in question['annotations'] if not annotation['skipped'] and not annotation['archived']]\n",
    "        new_row['question'] = question['question']\n",
    "        \n",
    "        for index, annotation in enumerate(annotations):\n",
    "            all_annotations.append(annotation)\n",
    "            new_row[f'answers{index}'] = annotation['answerLines']\n",
    "            new_row[f'noAnswer{index}'] = annotation['noAnswer']\n",
    "            new_row[f'user{index}'] = annotation['user']\n",
    "            \n",
    "        question_rows.append(new_row)\n",
    "\n",
    "questions_df = pd.DataFrame(question_rows, columns=['question', 'answers0', 'answers1', 'noAnswer0', 'noAnswer1', 'context', 'city', 'language'])\n",
    "annotations_df = pd.DataFrame(all_annotations)\n",
    "annotations_df.head()"
   ],
   "metadata": {
    "collapsed": false,
    "ExecuteTime": {
     "end_time": "2024-02-21T16:29:47.555617086Z",
     "start_time": "2024-02-21T16:29:47.387435177Z"
    }
   },
   "id": "cf8c5adc2c6e3381",
   "execution_count": 64
  },
  {
   "cell_type": "code",
   "outputs": [
    {
     "name": "stdout",
     "output_type": "stream",
     "text": [
      "### Total ###\n",
      "Total annotations: 1991 (single: 675 | double: 658)\n",
      "\n",
      "### German ###\n",
      "Total annotations: 1283 (single: 291 | double: 496)\n",
      "\n",
      "### English ###\n",
      "Total annotations: 708 (single: 384 | double: 162)\n"
     ]
    }
   ],
   "source": [
    "def print_stats(df, name):\n",
    "    annotation_0 = df.count().answers0\n",
    "    annotation_1 = df.count().answers1\n",
    "    print(f'### {name} ###')\n",
    "    print(f'Total annotations: {annotation_0 + annotation_1} (single: {annotation_0 - annotation_1} | double: {annotation_1})')\n",
    "    print('')\n",
    "    \n",
    "print_stats(questions_df, 'Total')\n",
    "print_stats(questions_df[questions_df['language'] == 'de'], 'German')\n",
    "print_stats(questions_df[questions_df['language'] == 'en'], 'English')"
   ],
   "metadata": {
    "collapsed": false,
    "ExecuteTime": {
     "end_time": "2024-02-21T16:01:57.739292191Z",
     "start_time": "2024-02-21T16:01:57.371834028Z"
    }
   },
   "id": "initial_id",
   "execution_count": 53
  },
  {
   "cell_type": "code",
   "outputs": [
    {
     "name": "stdout",
     "output_type": "stream",
     "text": []
    },
    {
     "data": {
      "text/plain": "                                             question  \\\n3        Was ist das Motto der Münchner Kammerspiele?   \n13  Wo kann man Informationen zu den Aufnahmeverfa...   \n15  Welche Angaben sind in der Gehaltsabrechnung o...   \n16  Was ist meist der Auszahlungsbetrag auf der Ge...   \n18  Wann stellen Arbeitgeberinnen oder Arbeitgeber...   \n\n                                          answers0  \\\n3                                               []   \n13                                          [5, 6]   \n15  [10, 11, 12, 13, 14, 15, 16, 4, 5, 6, 7, 8, 9]   \n16                                            [15]   \n18                                          [2, 3]   \n\n                                 answers1 noAnswer0 noAnswer1  \\\n3                         [3, 4, 5, 6, 7]      True     False   \n13                                    [6]     False     False   \n15  [10, 11, 12, 13, 14, 15, 16, 4, 5, 9]     False     False   \n16                        [1, 14, 15, 16]     False     False   \n18                                 [2, 3]     False     False   \n\n                                              context      city language  \n3   Münchner Kammerspiele\\nMünchner Kammerspiele\\n...  muenchen       de  \n13  Berufsschule\\nBerufsschule\\nDie berufliche Ers...  muenchen       de  \n15  Gehaltsabrechnung\\nGehaltsabrechnung\\nWenn Sie...  muenchen       de  \n16  Gehaltsabrechnung\\nGehaltsabrechnung\\nWenn Sie...  muenchen       de  \n18  Gehaltsabrechnung\\nGehaltsabrechnung\\nWenn Sie...  muenchen       de  ",
      "text/html": "<div>\n<style scoped>\n    .dataframe tbody tr th:only-of-type {\n        vertical-align: middle;\n    }\n\n    .dataframe tbody tr th {\n        vertical-align: top;\n    }\n\n    .dataframe thead th {\n        text-align: right;\n    }\n</style>\n<table border=\"1\" class=\"dataframe\">\n  <thead>\n    <tr style=\"text-align: right;\">\n      <th></th>\n      <th>question</th>\n      <th>answers0</th>\n      <th>answers1</th>\n      <th>noAnswer0</th>\n      <th>noAnswer1</th>\n      <th>context</th>\n      <th>city</th>\n      <th>language</th>\n    </tr>\n  </thead>\n  <tbody>\n    <tr>\n      <th>3</th>\n      <td>Was ist das Motto der Münchner Kammerspiele?</td>\n      <td>[]</td>\n      <td>[3, 4, 5, 6, 7]</td>\n      <td>True</td>\n      <td>False</td>\n      <td>Münchner Kammerspiele\\nMünchner Kammerspiele\\n...</td>\n      <td>muenchen</td>\n      <td>de</td>\n    </tr>\n    <tr>\n      <th>13</th>\n      <td>Wo kann man Informationen zu den Aufnahmeverfa...</td>\n      <td>[5, 6]</td>\n      <td>[6]</td>\n      <td>False</td>\n      <td>False</td>\n      <td>Berufsschule\\nBerufsschule\\nDie berufliche Ers...</td>\n      <td>muenchen</td>\n      <td>de</td>\n    </tr>\n    <tr>\n      <th>15</th>\n      <td>Welche Angaben sind in der Gehaltsabrechnung o...</td>\n      <td>[10, 11, 12, 13, 14, 15, 16, 4, 5, 6, 7, 8, 9]</td>\n      <td>[10, 11, 12, 13, 14, 15, 16, 4, 5, 9]</td>\n      <td>False</td>\n      <td>False</td>\n      <td>Gehaltsabrechnung\\nGehaltsabrechnung\\nWenn Sie...</td>\n      <td>muenchen</td>\n      <td>de</td>\n    </tr>\n    <tr>\n      <th>16</th>\n      <td>Was ist meist der Auszahlungsbetrag auf der Ge...</td>\n      <td>[15]</td>\n      <td>[1, 14, 15, 16]</td>\n      <td>False</td>\n      <td>False</td>\n      <td>Gehaltsabrechnung\\nGehaltsabrechnung\\nWenn Sie...</td>\n      <td>muenchen</td>\n      <td>de</td>\n    </tr>\n    <tr>\n      <th>18</th>\n      <td>Wann stellen Arbeitgeberinnen oder Arbeitgeber...</td>\n      <td>[2, 3]</td>\n      <td>[2, 3]</td>\n      <td>False</td>\n      <td>False</td>\n      <td>Gehaltsabrechnung\\nGehaltsabrechnung\\nWenn Sie...</td>\n      <td>muenchen</td>\n      <td>de</td>\n    </tr>\n  </tbody>\n</table>\n</div>"
     },
     "execution_count": 54,
     "metadata": {},
     "output_type": "execute_result"
    }
   ],
   "source": [
    "double_annotations_df = questions_df[~questions_df.answers0.isnull() & ~questions_df.answers1.isnull()]\n",
    "\n",
    "\n",
    "print()\n",
    "double_annotations_df.head()\n"
   ],
   "metadata": {
    "collapsed": false,
    "ExecuteTime": {
     "end_time": "2024-02-21T16:02:20.971360580Z",
     "start_time": "2024-02-21T16:02:20.893677081Z"
    }
   },
   "id": "3bb84f2b36f8bae4",
   "execution_count": 54
  },
  {
   "cell_type": "code",
   "outputs": [
    {
     "name": "stdout",
     "output_type": "stream",
     "text": [
      "             bin  count    sort\n",
      "2  (-0.001, 1.0]     25  -0.001\n",
      "0     (1.0, 5.0]     39   1.000\n",
      "1    (5.0, 10.0]     28   5.000\n",
      "3   (10.0, 25.0]     21  10.000\n",
      "4   (25.0, 50.0]     17  25.000\n",
      "[Interval(-0.001, 1.0, closed='right'), Interval(1.0, 5.0, closed='right'), Interval(5.0, 10.0, closed='right'), Interval(10.0, 25.0, closed='right'), Interval(25.0, 50.0, closed='right'), Interval(50.0, 100.0, closed='right'), Interval(100.0, 1000.0, closed='right')]\n"
     ]
    },
    {
     "data": {
      "text/plain": "<Figure size 640x480 with 1 Axes>",
      "image/png": "[encoded data removed]"
     },
     "metadata": {},
     "output_type": "display_data"
    }
   ],
   "source": [
    "# Plot user contributions\n",
    "group_by_user = annotations_df.user.value_counts().reset_index()\n",
    "group_by_user.columns = ['user', 'annotations']\n",
    "user_count_bins = pd.cut(group_by_user['annotations'], bins=[0, 1, 5, 10, 25, 50, 100, 1000], include_lowest=True).value_counts().reset_index()\n",
    "user_count_bins.columns = ['bin', 'count']\n",
    "user_count_bins['sort'] = user_count_bins.bin.map(lambda x : x.left)\n",
    "user_count_bins = user_count_bins.sort_values('sort')\n",
    "print(user_count_bins.head())\n",
    "\n",
    "ax = user_count_bins.plot.bar(rot=0, color='b')\n",
    "print([ x for x in user_count_bins['bin']])\n",
    "labels = [f'<{round(bin.right)}' for bin in user_count_bins['bin']]\n",
    "ax.set_xticklabels([label for label in labels if label ])\n",
    "plt.xlabel('annotations')\n",
    "plt.ylabel('users')\n",
    "plt.show()"
   ],
   "metadata": {
    "collapsed": false,
    "ExecuteTime": {
     "end_time": "2024-02-21T17:04:56.887673349Z",
     "start_time": "2024-02-21T17:04:56.593811062Z"
    }
   },
   "id": "2206910d6275aebe",
   "execution_count": 107
  }
 ],
 "metadata": {
  "kernelspec": {
   "display_name": "Python 3",
   "language": "python",
   "name": "python3"
  },
  "language_info": {
   "codemirror_mode": {
    "name": "ipython",
    "version": 2
   },
   "file_extension": ".py",
   "mimetype": "text/x-python",
   "name": "python",
   "nbconvert_exporter": "python",
   "pygments_lexer": "ipython2",
   "version": "2.7.6"
  }
 },
 "nbformat": 4,
 "nbformat_minor": 5
}
