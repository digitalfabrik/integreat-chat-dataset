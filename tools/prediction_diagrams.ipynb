{
 "cells": [
  {
   "cell_type": "code",
   "id": "initial_id",
   "metadata": {
    "collapsed": true,
    "ExecuteTime": {
     "end_time": "2024-04-29T12:22:13.569135Z",
     "start_time": "2024-04-29T12:22:09.509487Z"
    }
   },
   "source": [
    "import pandas as pd\n",
    "from matplotlib import pyplot as plt\n",
    "import json\n",
    "import os\n",
    "from evaluate_answers import prepare_evaluation\n",
    "from constants import MODELS, PROMPTS, RUNS, LLAMA3_70B, PROMPT_v4, GPT, MIXTRAL8x7B\n",
    "\n",
    "plt.rcParams.update({'font.size': 22})\n",
    "\n",
    "plt, axis = plt.subplots(figsize=(10, 7))\n",
    "axis.set_title('')\n",
    "\n",
    "predictions_path = f'../answers/{LLAMA3_70B}/v4_0/de/predicted.json'\n",
    "dataset_path = f'../datasets/splits/de/dev_de.json'\n",
    "predictions = json.load(open(predictions_path, 'r'))\n",
    "questions = json.load(open(dataset_path, 'r'))\n",
    "evaluation_df = prepare_evaluation(questions, predictions)\n",
    "\n",
    "for model in [LLAMA3_70B]:\n",
    "    for prompt in [PROMPT_v4]:\n",
    "        prompt_run = f'{prompt}_0'\n",
    "        for language in ['de']:\n",
    "            predictions_path = f'../answers/{model}/{prompt_run}/{language}/predicted.json'\n",
    "            dataset_path = f'../datasets/splits/{language}/dev_{language}.json'\n",
    "            predictions = json.load(open(predictions_path, 'r'))\n",
    "            questions = json.load(open(dataset_path, 'r'))\n",
    "            evaluation_df = prepare_evaluation(questions, predictions)\n",
    "            grouped_df = evaluation_df[evaluation_df.answer_count < 18].groupby(evaluation_df.answer_count)\n",
    "            precisions = grouped_df.precision.mean().plot.line(ax=axis, marker='s', label='precision', markersize=16, linewidth=3)\n",
    "            recalls = grouped_df.recall.mean().plot.line(ax=axis, marker='^', label='recall', markersize=16, linewidth=3)\n",
    "            axis.set_xlabel('ground truth answers')\n",
    "            axis.set_xticks([0, 2, 4, 6, 8, 10, 12, 14, 16])\n",
    "            axis.legend()\n",
    "            # print(evaluation_df)\n",
    "            plt.savefig('resources/precision_recall_answers.pdf', format='pdf')\n",
    "                \n",
    "evaluation_df = pd.DataFrame(evaluation_df, columns=['answers', 'predicted', 'recall', 'precision'])\n",
    "evaluation_df[evaluation_df.answers.str.len() == 0]\n"
   ],
   "execution_count": 82,
   "outputs": []
  }
 ],
 "metadata": {
  "kernelspec": {
   "display_name": "Python 3",
   "language": "python",
   "name": "python3"
  },
  "language_info": {
   "codemirror_mode": {
    "name": "ipython",
    "version": 2
   },
   "file_extension": ".py",
   "mimetype": "text/x-python",
   "name": "python",
   "nbconvert_exporter": "python",
   "pygments_lexer": "ipython2",
   "version": "2.7.6"
  }
 },
 "nbformat": 4,
 "nbformat_minor": 5
}
